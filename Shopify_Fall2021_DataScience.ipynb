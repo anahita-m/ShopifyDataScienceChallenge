{
  "nbformat": 4,
  "nbformat_minor": 0,
  "metadata": {
    "colab": {
      "name": "Shopify-Fall2021-DataScience.ipynb",
      "provenance": [],
      "authorship_tag": "ABX9TyOsjdvDfgOMFw5Gj/LAoLnz",
      "include_colab_link": true
    },
    "kernelspec": {
      "name": "python3",
      "display_name": "Python 3"
    },
    "language_info": {
      "name": "python"
    }
  },
  "cells": [
    {
      "cell_type": "markdown",
      "metadata": {
        "id": "view-in-github",
        "colab_type": "text"
      },
      "source": [
        "<a href=\"https://colab.research.google.com/github/anahita-m/ShopifyDataScienceChallenge/blob/main/Shopify_Fall2021_DataScience.ipynb\" target=\"_parent\"><img src=\"https://colab.research.google.com/assets/colab-badge.svg\" alt=\"Open In Colab\"/></a>"
      ]
    },
    {
      "cell_type": "code",
      "metadata": {
        "colab": {
          "base_uri": "https://localhost:8080/"
        },
        "id": "DF-ChHiIxAme",
        "outputId": "42f7eb1e-03cf-4c94-be59-f7fed5055940"
      },
      "source": [
        "from google.colab import drive\n",
        "drive.mount(\"/content/drive\", force_remount=True)"
      ],
      "execution_count": 1,
      "outputs": [
        {
          "output_type": "stream",
          "text": [
            "Mounted at /content/drive\n"
          ],
          "name": "stdout"
        }
      ]
    },
    {
      "cell_type": "markdown",
      "metadata": {
        "id": "16t-kEQjjihb"
      },
      "source": [
        "# 1A."
      ]
    },
    {
      "cell_type": "markdown",
      "metadata": {
        "id": "RhIpOZBr4_eZ"
      },
      "source": [
        "First, let's quickly investigate the data and double check that the average order value is as reported."
      ]
    },
    {
      "cell_type": "code",
      "metadata": {
        "colab": {
          "base_uri": "https://localhost:8080/"
        },
        "id": "7VhPLyGlegcE",
        "outputId": "77069cd0-12eb-47e4-ee4f-1daf81f6ddce"
      },
      "source": [
        "import pandas as pd\n",
        "import seaborn as sns\n",
        "\n",
        "path_order_data = '/content/drive/My Drive/2019 Winter Data Science Intern Challenge Data Set - Sheet1.csv'\n",
        "orders_df = pd.read_csv(path_order_data)\n",
        "orders_df.shape"
      ],
      "execution_count": 2,
      "outputs": [
        {
          "output_type": "execute_result",
          "data": {
            "text/plain": [
              "(5000, 7)"
            ]
          },
          "metadata": {
            "tags": []
          },
          "execution_count": 2
        }
      ]
    },
    {
      "cell_type": "code",
      "metadata": {
        "colab": {
          "base_uri": "https://localhost:8080/",
          "height": 191
        },
        "id": "xSsXSq66iPpC",
        "outputId": "3dc79dc1-40c2-4182-ead3-0ae6500149f1"
      },
      "source": [
        "orders_df.head()"
      ],
      "execution_count": 3,
      "outputs": [
        {
          "output_type": "execute_result",
          "data": {
            "text/html": [
              "<div>\n",
              "<style scoped>\n",
              "    .dataframe tbody tr th:only-of-type {\n",
              "        vertical-align: middle;\n",
              "    }\n",
              "\n",
              "    .dataframe tbody tr th {\n",
              "        vertical-align: top;\n",
              "    }\n",
              "\n",
              "    .dataframe thead th {\n",
              "        text-align: right;\n",
              "    }\n",
              "</style>\n",
              "<table border=\"1\" class=\"dataframe\">\n",
              "  <thead>\n",
              "    <tr style=\"text-align: right;\">\n",
              "      <th></th>\n",
              "      <th>order_id</th>\n",
              "      <th>shop_id</th>\n",
              "      <th>user_id</th>\n",
              "      <th>order_amount</th>\n",
              "      <th>total_items</th>\n",
              "      <th>payment_method</th>\n",
              "      <th>created_at</th>\n",
              "    </tr>\n",
              "  </thead>\n",
              "  <tbody>\n",
              "    <tr>\n",
              "      <th>0</th>\n",
              "      <td>1</td>\n",
              "      <td>53</td>\n",
              "      <td>746</td>\n",
              "      <td>224</td>\n",
              "      <td>2</td>\n",
              "      <td>cash</td>\n",
              "      <td>2017-03-13 12:36:56</td>\n",
              "    </tr>\n",
              "    <tr>\n",
              "      <th>1</th>\n",
              "      <td>2</td>\n",
              "      <td>92</td>\n",
              "      <td>925</td>\n",
              "      <td>90</td>\n",
              "      <td>1</td>\n",
              "      <td>cash</td>\n",
              "      <td>2017-03-03 17:38:52</td>\n",
              "    </tr>\n",
              "    <tr>\n",
              "      <th>2</th>\n",
              "      <td>3</td>\n",
              "      <td>44</td>\n",
              "      <td>861</td>\n",
              "      <td>144</td>\n",
              "      <td>1</td>\n",
              "      <td>cash</td>\n",
              "      <td>2017-03-14 4:23:56</td>\n",
              "    </tr>\n",
              "    <tr>\n",
              "      <th>3</th>\n",
              "      <td>4</td>\n",
              "      <td>18</td>\n",
              "      <td>935</td>\n",
              "      <td>156</td>\n",
              "      <td>1</td>\n",
              "      <td>credit_card</td>\n",
              "      <td>2017-03-26 12:43:37</td>\n",
              "    </tr>\n",
              "    <tr>\n",
              "      <th>4</th>\n",
              "      <td>5</td>\n",
              "      <td>18</td>\n",
              "      <td>883</td>\n",
              "      <td>156</td>\n",
              "      <td>1</td>\n",
              "      <td>credit_card</td>\n",
              "      <td>2017-03-01 4:35:11</td>\n",
              "    </tr>\n",
              "  </tbody>\n",
              "</table>\n",
              "</div>"
            ],
            "text/plain": [
              "   order_id  shop_id  user_id  ...  total_items  payment_method           created_at\n",
              "0         1       53      746  ...            2            cash  2017-03-13 12:36:56\n",
              "1         2       92      925  ...            1            cash  2017-03-03 17:38:52\n",
              "2         3       44      861  ...            1            cash   2017-03-14 4:23:56\n",
              "3         4       18      935  ...            1     credit_card  2017-03-26 12:43:37\n",
              "4         5       18      883  ...            1     credit_card   2017-03-01 4:35:11\n",
              "\n",
              "[5 rows x 7 columns]"
            ]
          },
          "metadata": {
            "tags": []
          },
          "execution_count": 3
        }
      ]
    },
    {
      "cell_type": "code",
      "metadata": {
        "colab": {
          "base_uri": "https://localhost:8080/"
        },
        "id": "FCE4S1Bwxf4U",
        "outputId": "9f8ee879-d665-4d95-f445-ec7dbd36ae0c"
      },
      "source": [
        "orders_df['order_amount'].mean()\n"
      ],
      "execution_count": 4,
      "outputs": [
        {
          "output_type": "execute_result",
          "data": {
            "text/plain": [
              "3145.128"
            ]
          },
          "metadata": {
            "tags": []
          },
          "execution_count": 4
        }
      ]
    },
    {
      "cell_type": "markdown",
      "metadata": {
        "id": "JrtUyuNd5mDy"
      },
      "source": [
        "Okay, as we saw from our quick check, we have confirmation that the AOV (average order value) as calculated by mean is $3,145.13 which seems quite large for shoe orders. Let's investigate a bit further now."
      ]
    },
    {
      "cell_type": "code",
      "metadata": {
        "colab": {
          "base_uri": "https://localhost:8080/"
        },
        "id": "fN4dtU1VTReh",
        "outputId": "3e981705-c44e-4b5f-d8f2-cd70dc67d3d7"
      },
      "source": [
        "orders_df['order_amount'].describe()"
      ],
      "execution_count": 5,
      "outputs": [
        {
          "output_type": "execute_result",
          "data": {
            "text/plain": [
              "count      5000.000000\n",
              "mean       3145.128000\n",
              "std       41282.539349\n",
              "min          90.000000\n",
              "25%         163.000000\n",
              "50%         284.000000\n",
              "75%         390.000000\n",
              "max      704000.000000\n",
              "Name: order_amount, dtype: float64"
            ]
          },
          "metadata": {
            "tags": []
          },
          "execution_count": 5
        }
      ]
    },
    {
      "cell_type": "markdown",
      "metadata": {
        "id": "VHEKz3ChTqpJ"
      },
      "source": [
        "When we describe the order_amount data we can see that the standard deviation is very large and that we have a max order amount of $704,000 which seems extreme to have come from an average customer, especially when seeing the median order value is significantly less. The massive difference between mean and median here as well as the very large standard deviation suggest that our mean may be getting skewed by some extreme outliers.\n",
        "\n"
      ]
    },
    {
      "cell_type": "markdown",
      "metadata": {
        "id": "3-kU8E4jcBB7"
      },
      "source": [
        "When we plot all the order values, we can see some there exist some extreme outliers in the data both in order amount and order total that corresponds to the max order amount value we saw earlier. We can also sort our table data in ascending order to see more clearly what our outliers are in exact numbers."
      ]
    },
    {
      "cell_type": "code",
      "metadata": {
        "colab": {
          "base_uri": "https://localhost:8080/",
          "height": 265
        },
        "id": "P8Nh93O31u5r",
        "outputId": "903224bc-ff89-4c02-e07b-2a3705ad47e3"
      },
      "source": [
        "import matplotlib.pyplot as plt\n",
        "\n",
        "plt.scatter(x=orders_df['order_id'], y=orders_df['order_amount'], s=4)\n",
        "plt.show()"
      ],
      "execution_count": null,
      "outputs": [
        {
          "output_type": "display_data",
          "data": {
            "image/png": "[encoded data removed]",
            "text/plain": [
              "<Figure size 432x288 with 1 Axes>"
            ]
          },
          "metadata": {
            "tags": [],
            "needs_background": "light"
          }
        }
      ]
    },
    {
      "cell_type": "code",
      "metadata": {
        "colab": {
          "base_uri": "https://localhost:8080/",
          "height": 265
        },
        "id": "zMyFypaNboz8",
        "outputId": "a80822da-e517-438f-9038-48a23301ad98"
      },
      "source": [
        "plt.scatter(x=orders_df['order_id'], y=orders_df['total_items'], s=4)\n",
        "plt.show()"
      ],
      "execution_count": null,
      "outputs": [
        {
          "output_type": "display_data",
          "data": {
            "image/png": "[encoded data removed]",
            "text/plain": [
              "<Figure size 432x288 with 1 Axes>"
            ]
          },
          "metadata": {
            "tags": [],
            "needs_background": "light"
          }
        }
      ]
    },
    {
      "cell_type": "markdown",
      "metadata": {
        "id": "Ke1ALO20aLhX"
      },
      "source": [
        "When we take a look further, we see that all the orders that amount to $704,000 were purchased by the same user (user_id = 607) from the same shope (shop_id - 42) with the same number of total items. All the purchases also have been created at the the same exact time acaross multiple days. Based on this information, we can guess that this user is a bulk shopper whose possible intent may be to resell the items at a higher price. These outlier data points are not reflective of average customer orders so it is most likely that they are skewing our mean heavily."
      ]
    },
    {
      "cell_type": "code",
      "metadata": {
        "colab": {
          "base_uri": "https://localhost:8080/",
          "height": 622
        },
        "id": "0T1cZEskXM0n",
        "outputId": "99c3d9a6-cec6-4a14-df4f-428f4eb7f93b"
      },
      "source": [
        "orders_df.sort_values(\"order_amount\",ascending=False).head(20)"
      ],
      "execution_count": 20,
      "outputs": [
        {
          "output_type": "execute_result",
          "data": {
            "text/html": [
              "<div>\n",
              "<style scoped>\n",
              "    .dataframe tbody tr th:only-of-type {\n",
              "        vertical-align: middle;\n",
              "    }\n",
              "\n",
              "    .dataframe tbody tr th {\n",
              "        vertical-align: top;\n",
              "    }\n",
              "\n",
              "    .dataframe thead th {\n",
              "        text-align: right;\n",
              "    }\n",
              "</style>\n",
              "<table border=\"1\" class=\"dataframe\">\n",
              "  <thead>\n",
              "    <tr style=\"text-align: right;\">\n",
              "      <th></th>\n",
              "      <th>order_id</th>\n",
              "      <th>shop_id</th>\n",
              "      <th>user_id</th>\n",
              "      <th>order_amount</th>\n",
              "      <th>total_items</th>\n",
              "      <th>payment_method</th>\n",
              "      <th>created_at</th>\n",
              "    </tr>\n",
              "  </thead>\n",
              "  <tbody>\n",
              "    <tr>\n",
              "      <th>2153</th>\n",
              "      <td>2154</td>\n",
              "      <td>42</td>\n",
              "      <td>607</td>\n",
              "      <td>704000</td>\n",
              "      <td>2000</td>\n",
              "      <td>credit_card</td>\n",
              "      <td>2017-03-12 4:00:00</td>\n",
              "    </tr>\n",
              "    <tr>\n",
              "      <th>3332</th>\n",
              "      <td>3333</td>\n",
              "      <td>42</td>\n",
              "      <td>607</td>\n",
              "      <td>704000</td>\n",
              "      <td>2000</td>\n",
              "      <td>credit_card</td>\n",
              "      <td>2017-03-24 4:00:00</td>\n",
              "    </tr>\n",
              "    <tr>\n",
              "      <th>520</th>\n",
              "      <td>521</td>\n",
              "      <td>42</td>\n",
              "      <td>607</td>\n",
              "      <td>704000</td>\n",
              "      <td>2000</td>\n",
              "      <td>credit_card</td>\n",
              "      <td>2017-03-02 4:00:00</td>\n",
              "    </tr>\n",
              "    <tr>\n",
              "      <th>1602</th>\n",
              "      <td>1603</td>\n",
              "      <td>42</td>\n",
              "      <td>607</td>\n",
              "      <td>704000</td>\n",
              "      <td>2000</td>\n",
              "      <td>credit_card</td>\n",
              "      <td>2017-03-17 4:00:00</td>\n",
              "    </tr>\n",
              "    <tr>\n",
              "      <th>60</th>\n",
              "      <td>61</td>\n",
              "      <td>42</td>\n",
              "      <td>607</td>\n",
              "      <td>704000</td>\n",
              "      <td>2000</td>\n",
              "      <td>credit_card</td>\n",
              "      <td>2017-03-04 4:00:00</td>\n",
              "    </tr>\n",
              "    <tr>\n",
              "      <th>2835</th>\n",
              "      <td>2836</td>\n",
              "      <td>42</td>\n",
              "      <td>607</td>\n",
              "      <td>704000</td>\n",
              "      <td>2000</td>\n",
              "      <td>credit_card</td>\n",
              "      <td>2017-03-28 4:00:00</td>\n",
              "    </tr>\n",
              "    <tr>\n",
              "      <th>4646</th>\n",
              "      <td>4647</td>\n",
              "      <td>42</td>\n",
              "      <td>607</td>\n",
              "      <td>704000</td>\n",
              "      <td>2000</td>\n",
              "      <td>credit_card</td>\n",
              "      <td>2017-03-02 4:00:00</td>\n",
              "    </tr>\n",
              "    <tr>\n",
              "      <th>2297</th>\n",
              "      <td>2298</td>\n",
              "      <td>42</td>\n",
              "      <td>607</td>\n",
              "      <td>704000</td>\n",
              "      <td>2000</td>\n",
              "      <td>credit_card</td>\n",
              "      <td>2017-03-07 4:00:00</td>\n",
              "    </tr>\n",
              "    <tr>\n",
              "      <th>1436</th>\n",
              "      <td>1437</td>\n",
              "      <td>42</td>\n",
              "      <td>607</td>\n",
              "      <td>704000</td>\n",
              "      <td>2000</td>\n",
              "      <td>credit_card</td>\n",
              "      <td>2017-03-11 4:00:00</td>\n",
              "    </tr>\n",
              "    <tr>\n",
              "      <th>4882</th>\n",
              "      <td>4883</td>\n",
              "      <td>42</td>\n",
              "      <td>607</td>\n",
              "      <td>704000</td>\n",
              "      <td>2000</td>\n",
              "      <td>credit_card</td>\n",
              "      <td>2017-03-25 4:00:00</td>\n",
              "    </tr>\n",
              "    <tr>\n",
              "      <th>4056</th>\n",
              "      <td>4057</td>\n",
              "      <td>42</td>\n",
              "      <td>607</td>\n",
              "      <td>704000</td>\n",
              "      <td>2000</td>\n",
              "      <td>credit_card</td>\n",
              "      <td>2017-03-28 4:00:00</td>\n",
              "    </tr>\n",
              "    <tr>\n",
              "      <th>15</th>\n",
              "      <td>16</td>\n",
              "      <td>42</td>\n",
              "      <td>607</td>\n",
              "      <td>704000</td>\n",
              "      <td>2000</td>\n",
              "      <td>credit_card</td>\n",
              "      <td>2017-03-07 4:00:00</td>\n",
              "    </tr>\n",
              "    <tr>\n",
              "      <th>1104</th>\n",
              "      <td>1105</td>\n",
              "      <td>42</td>\n",
              "      <td>607</td>\n",
              "      <td>704000</td>\n",
              "      <td>2000</td>\n",
              "      <td>credit_card</td>\n",
              "      <td>2017-03-24 4:00:00</td>\n",
              "    </tr>\n",
              "    <tr>\n",
              "      <th>1562</th>\n",
              "      <td>1563</td>\n",
              "      <td>42</td>\n",
              "      <td>607</td>\n",
              "      <td>704000</td>\n",
              "      <td>2000</td>\n",
              "      <td>credit_card</td>\n",
              "      <td>2017-03-19 4:00:00</td>\n",
              "    </tr>\n",
              "    <tr>\n",
              "      <th>2969</th>\n",
              "      <td>2970</td>\n",
              "      <td>42</td>\n",
              "      <td>607</td>\n",
              "      <td>704000</td>\n",
              "      <td>2000</td>\n",
              "      <td>credit_card</td>\n",
              "      <td>2017-03-28 4:00:00</td>\n",
              "    </tr>\n",
              "    <tr>\n",
              "      <th>4868</th>\n",
              "      <td>4869</td>\n",
              "      <td>42</td>\n",
              "      <td>607</td>\n",
              "      <td>704000</td>\n",
              "      <td>2000</td>\n",
              "      <td>credit_card</td>\n",
              "      <td>2017-03-22 4:00:00</td>\n",
              "    </tr>\n",
              "    <tr>\n",
              "      <th>1362</th>\n",
              "      <td>1363</td>\n",
              "      <td>42</td>\n",
              "      <td>607</td>\n",
              "      <td>704000</td>\n",
              "      <td>2000</td>\n",
              "      <td>credit_card</td>\n",
              "      <td>2017-03-15 4:00:00</td>\n",
              "    </tr>\n",
              "    <tr>\n",
              "      <th>691</th>\n",
              "      <td>692</td>\n",
              "      <td>78</td>\n",
              "      <td>878</td>\n",
              "      <td>154350</td>\n",
              "      <td>6</td>\n",
              "      <td>debit</td>\n",
              "      <td>2017-03-27 22:51:43</td>\n",
              "    </tr>\n",
              "    <tr>\n",
              "      <th>2492</th>\n",
              "      <td>2493</td>\n",
              "      <td>78</td>\n",
              "      <td>834</td>\n",
              "      <td>102900</td>\n",
              "      <td>4</td>\n",
              "      <td>debit</td>\n",
              "      <td>2017-03-04 4:37:34</td>\n",
              "    </tr>\n",
              "    <tr>\n",
              "      <th>3724</th>\n",
              "      <td>3725</td>\n",
              "      <td>78</td>\n",
              "      <td>766</td>\n",
              "      <td>77175</td>\n",
              "      <td>3</td>\n",
              "      <td>credit_card</td>\n",
              "      <td>2017-03-16 14:13:26</td>\n",
              "    </tr>\n",
              "  </tbody>\n",
              "</table>\n",
              "</div>"
            ],
            "text/plain": [
              "      order_id  shop_id  ...  payment_method           created_at\n",
              "2153      2154       42  ...     credit_card   2017-03-12 4:00:00\n",
              "3332      3333       42  ...     credit_card   2017-03-24 4:00:00\n",
              "520        521       42  ...     credit_card   2017-03-02 4:00:00\n",
              "1602      1603       42  ...     credit_card   2017-03-17 4:00:00\n",
              "60          61       42  ...     credit_card   2017-03-04 4:00:00\n",
              "2835      2836       42  ...     credit_card   2017-03-28 4:00:00\n",
              "4646      4647       42  ...     credit_card   2017-03-02 4:00:00\n",
              "2297      2298       42  ...     credit_card   2017-03-07 4:00:00\n",
              "1436      1437       42  ...     credit_card   2017-03-11 4:00:00\n",
              "4882      4883       42  ...     credit_card   2017-03-25 4:00:00\n",
              "4056      4057       42  ...     credit_card   2017-03-28 4:00:00\n",
              "15          16       42  ...     credit_card   2017-03-07 4:00:00\n",
              "1104      1105       42  ...     credit_card   2017-03-24 4:00:00\n",
              "1562      1563       42  ...     credit_card   2017-03-19 4:00:00\n",
              "2969      2970       42  ...     credit_card   2017-03-28 4:00:00\n",
              "4868      4869       42  ...     credit_card   2017-03-22 4:00:00\n",
              "1362      1363       42  ...     credit_card   2017-03-15 4:00:00\n",
              "691        692       78  ...           debit  2017-03-27 22:51:43\n",
              "2492      2493       78  ...           debit   2017-03-04 4:37:34\n",
              "3724      3725       78  ...     credit_card  2017-03-16 14:13:26\n",
              "\n",
              "[20 rows x 7 columns]"
            ]
          },
          "metadata": {
            "tags": []
          },
          "execution_count": 20
        }
      ]
    },
    {
      "cell_type": "markdown",
      "metadata": {
        "id": "Ik9bB0xMjsjn"
      },
      "source": [
        "# 1B."
      ]
    },
    {
      "cell_type": "markdown",
      "metadata": {
        "id": "no86C3T4ZYo2"
      },
      "source": [
        "I think a better statistic for AOVis the median order value as it is not as affected by outliers in the data set and thus provides a better description of what we are looking for. If I wanted to provide a mean statistic again, then I would remove the outliers first to calculate it. "
      ]
    },
    {
      "cell_type": "markdown",
      "metadata": {
        "id": "CZ2_SMo6juSP"
      },
      "source": [
        "# 1C. "
      ]
    },
    {
      "cell_type": "markdown",
      "metadata": {
        "id": "yJGUgOAYQFIW"
      },
      "source": [
        "The median order value is $284.00."
      ]
    },
    {
      "cell_type": "code",
      "metadata": {
        "colab": {
          "base_uri": "https://localhost:8080/"
        },
        "id": "pWtHnQhrZa-1",
        "outputId": "2955dd40-756e-4a39-b108-506752f2d116"
      },
      "source": [
        "orders_df['order_amount'].median()\n"
      ],
      "execution_count": null,
      "outputs": [
        {
          "output_type": "execute_result",
          "data": {
            "text/plain": [
              "284.0"
            ]
          },
          "metadata": {
            "tags": []
          },
          "execution_count": 64
        }
      ]
    },
    {
      "cell_type": "markdown",
      "metadata": {
        "id": "9ZhVdSnLX-uX"
      },
      "source": [
        "#2A.\n"
      ]
    },
    {
      "cell_type": "markdown",
      "metadata": {
        "id": "T97-CLY5Ry4V"
      },
      "source": [
        "**54** orders were shipped by Speedy Express in total.\n",
        "\n",
        "\n",
        "```\n",
        "SELECT COUNT(*) AS numOrders\n",
        "FROM Orders JOIN Shippers ON Orders.ShipperID = Shippers.ShipperID\n",
        "WHERE Shippers.ShipperName = 'Speedy Express'\n",
        "```\n",
        "\n",
        "\n",
        "\n"
      ]
    },
    {
      "cell_type": "markdown",
      "metadata": {
        "id": "RgYGNUdNYI1A"
      },
      "source": [
        "#2B."
      ]
    },
    {
      "cell_type": "markdown",
      "metadata": {
        "id": "A_Xe7QsMRTnz"
      },
      "source": [
        "The last name of the employee with the most orders is **Peakcock**.\n",
        "\n",
        "\n",
        "```\n",
        "SELECT Employees.LastName, COUNT(*) AS numOrders\n",
        "FROM Employees JOIN Orders ON Employees.EmployeeID = Orders.EmployeeID\n",
        "GROUP BY Employees.LastName\n",
        "ORDER BY numOrders DESC\n",
        "LIMIT 1;\n",
        "```\n",
        "\n"
      ]
    },
    {
      "cell_type": "markdown",
      "metadata": {
        "id": "wW1I-dPXQNm4"
      },
      "source": [
        "#2C."
      ]
    },
    {
      "cell_type": "markdown",
      "metadata": {
        "id": "JxThCtD6HTKj"
      },
      "source": [
        "The product that was ordered the most by customers in Germany was **Boston Crab Meat**.\n",
        "\n",
        "```\n",
        "SELECT product.ProductName AS Product, SUM(Quantity) AS TotalQuantityOrdered\n",
        "FROM Customers AS customer , Orders AS orders, Products AS product, OrderDetails AS order_details\n",
        "WHERE customer.Country = \"Germany\" AND customer.CustomerID = orders.CustomerID AND order_details.OrderID = orders.OrderID AND order_details.ProductID = product.ProductID\n",
        "GROUP BY product.ProductID\n",
        "ORDER BY TotalQuantityOrdered DESC\n",
        "LIMIT 1;\n",
        "```\n",
        "\n"
      ]
    }
  ]
}